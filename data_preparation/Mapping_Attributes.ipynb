{
 "cells": [
  {
   "cell_type": "code",
   "execution_count": 6,
   "metadata": {
    "collapsed": false
   },
   "outputs": [
    {
     "name": "stdout",
     "output_type": "stream",
     "text": [
      "INFO: Pandarallel will run on 10 workers.\n",
      "INFO: Pandarallel will use Memory file system to transfer data between the main process and workers.\n"
     ]
    }
   ],
   "source": [
    "from pandarallel import pandarallel\n",
    "pandarallel.initialize(nb_workers=10, progress_bar=True)\n",
    "import pandas as pd\n",
    "import os"
   ]
  },
  {
   "cell_type": "markdown",
   "metadata": {},
   "source": [
    "# 사용자 정의 Configuration"
   ]
  },
  {
   "cell_type": "code",
   "execution_count": 2,
   "metadata": {
    "collapsed": false
   },
   "outputs": [],
   "source": [
    "data_dir = '/home/dmlab/Dropbox/DATA/projects/visualize'\n",
    "\n",
    "billboard_filepath = os.path.join(data_dir, 'billboardHot100_1999-2019.csv')\n",
    "attribute_filepath = os.path.join(data_dir, 'data.csv')\n",
    "\n",
    "save_dir = os.path.join(data_dir, 'output')\n",
    "if not os.path.exists: os.makedirs(save_dir)\n",
    "save_filepath = os.path.join(save_dir, 'billboard_with_attributes_%d.csv')"
   ]
  },
  {
   "cell_type": "markdown",
   "metadata": {},
   "source": [
    "# Merge data\n",
    "* billboardHot100_1999-2019.csv에 수록된 노래에 한하여 data.csv로부터 attributes 값을 불러옴\n",
    "    - Attributes: acousticness, danceability, duration_ms, energy, explicit, instrumentalness, key, liveness, loudness, mode, popularity, speechiness, tempo, valence\n",
    "* attributes 값이 없는 노래는 삭제함"
   ]
  },
  {
   "cell_type": "code",
   "execution_count": 3,
   "metadata": {
    "collapsed": false
   },
   "outputs": [
    {
     "name": "stdout",
     "output_type": "stream",
     "text": [
      "Total number of songs: 97225 [1999-2019]\n"
     ]
    },
    {
     "data": {
      "text/html": [
       "<div>\n",
       "<style scoped>\n",
       "    .dataframe tbody tr th:only-of-type {\n",
       "        vertical-align: middle;\n",
       "    }\n",
       "\n",
       "    .dataframe tbody tr th {\n",
       "        vertical-align: top;\n",
       "    }\n",
       "\n",
       "    .dataframe thead th {\n",
       "        text-align: right;\n",
       "    }\n",
       "</style>\n",
       "<table border=\"1\" class=\"dataframe\">\n",
       "  <thead>\n",
       "    <tr style=\"text-align: right;\">\n",
       "      <th></th>\n",
       "      <th>Artists</th>\n",
       "      <th>Name</th>\n",
       "      <th>Weekly.rank</th>\n",
       "      <th>Peak.position</th>\n",
       "      <th>Weeks.on.chart</th>\n",
       "      <th>Week</th>\n",
       "      <th>Date</th>\n",
       "      <th>Genre</th>\n",
       "      <th>Writing.Credits</th>\n",
       "      <th>Lyrics</th>\n",
       "      <th>Features</th>\n",
       "      <th>Year</th>\n",
       "    </tr>\n",
       "  </thead>\n",
       "  <tbody>\n",
       "    <tr>\n",
       "      <th>0</th>\n",
       "      <td>Lil Nas,</td>\n",
       "      <td>Old Town Road</td>\n",
       "      <td>1</td>\n",
       "      <td>1.0</td>\n",
       "      <td>7.0</td>\n",
       "      <td>2019-07-06</td>\n",
       "      <td>April 5, 2019</td>\n",
       "      <td>Country,Atlanta,Alternative Country,Hip-Hop,Tr...</td>\n",
       "      <td>Jozzy, Atticus ross, Trent reznor, Billy ray c...</td>\n",
       "      <td>Old Town Road Remix \\nOh, oh-oh\\nOh\\nYeah, I'm...</td>\n",
       "      <td>Billy Ray Cyrus</td>\n",
       "      <td>2019</td>\n",
       "    </tr>\n",
       "    <tr>\n",
       "      <th>1</th>\n",
       "      <td>Shawn Mendes, Camila Cabello</td>\n",
       "      <td>Senorita</td>\n",
       "      <td>2</td>\n",
       "      <td>NaN</td>\n",
       "      <td>NaN</td>\n",
       "      <td>2019-07-06</td>\n",
       "      <td>June 21, 2019</td>\n",
       "      <td>Pop</td>\n",
       "      <td>Cashmere cat, Jack patterson, Charli xcx, Benn...</td>\n",
       "      <td>Senorita \\nI love it when you call me senorita...</td>\n",
       "      <td>NaN</td>\n",
       "      <td>2019</td>\n",
       "    </tr>\n",
       "    <tr>\n",
       "      <th>2</th>\n",
       "      <td>Billie Eilish</td>\n",
       "      <td>Bad Guy</td>\n",
       "      <td>3</td>\n",
       "      <td>2.0</td>\n",
       "      <td>13.0</td>\n",
       "      <td>2019-07-06</td>\n",
       "      <td>March 29, 2019</td>\n",
       "      <td>Hip-Hop,Dark Pop,House,Trap,Memes,Alternative ...</td>\n",
       "      <td>Billie eilish, Finneas</td>\n",
       "      <td>bad guy \\nWhite shirt now red, my bloody nose\\...</td>\n",
       "      <td>NaN</td>\n",
       "      <td>2019</td>\n",
       "    </tr>\n",
       "    <tr>\n",
       "      <th>3</th>\n",
       "      <td>Khalid</td>\n",
       "      <td>Talk</td>\n",
       "      <td>4</td>\n",
       "      <td>3.0</td>\n",
       "      <td>20.0</td>\n",
       "      <td>2019-07-06</td>\n",
       "      <td>February 7, 2019</td>\n",
       "      <td>Synth-Pop,Pop</td>\n",
       "      <td>Howard lawrence, Guy lawrence, Khalid</td>\n",
       "      <td>Talk \\nCan we just talk? Can we just talk?\\nTa...</td>\n",
       "      <td>NaN</td>\n",
       "      <td>2019</td>\n",
       "    </tr>\n",
       "    <tr>\n",
       "      <th>4</th>\n",
       "      <td>Ed Sheeran, Justin Bieber</td>\n",
       "      <td>I Don't Care</td>\n",
       "      <td>5</td>\n",
       "      <td>2.0</td>\n",
       "      <td>7.0</td>\n",
       "      <td>2019-07-06</td>\n",
       "      <td>May 10, 2019</td>\n",
       "      <td>Canada,UK,Dance,Dance-Pop,Pop</td>\n",
       "      <td>Ed sheeran, Justin bieber, Shellback, Max mart...</td>\n",
       "      <td>I Don't Care \\nI'm at a party I don't wanna be...</td>\n",
       "      <td>NaN</td>\n",
       "      <td>2019</td>\n",
       "    </tr>\n",
       "  </tbody>\n",
       "</table>\n",
       "</div>"
      ],
      "text/plain": [
       "                        Artists           Name  Weekly.rank  Peak.position  \\\n",
       "0                      Lil Nas,  Old Town Road            1            1.0   \n",
       "1  Shawn Mendes, Camila Cabello       Senorita            2            NaN   \n",
       "2                 Billie Eilish        Bad Guy            3            2.0   \n",
       "3                        Khalid           Talk            4            3.0   \n",
       "4     Ed Sheeran, Justin Bieber   I Don't Care            5            2.0   \n",
       "\n",
       "   Weeks.on.chart        Week              Date  \\\n",
       "0             7.0  2019-07-06     April 5, 2019   \n",
       "1             NaN  2019-07-06     June 21, 2019   \n",
       "2            13.0  2019-07-06    March 29, 2019   \n",
       "3            20.0  2019-07-06  February 7, 2019   \n",
       "4             7.0  2019-07-06      May 10, 2019   \n",
       "\n",
       "                                               Genre  \\\n",
       "0  Country,Atlanta,Alternative Country,Hip-Hop,Tr...   \n",
       "1                                                Pop   \n",
       "2  Hip-Hop,Dark Pop,House,Trap,Memes,Alternative ...   \n",
       "3                                      Synth-Pop,Pop   \n",
       "4                      Canada,UK,Dance,Dance-Pop,Pop   \n",
       "\n",
       "                                     Writing.Credits  \\\n",
       "0  Jozzy, Atticus ross, Trent reznor, Billy ray c...   \n",
       "1  Cashmere cat, Jack patterson, Charli xcx, Benn...   \n",
       "2                             Billie eilish, Finneas   \n",
       "3              Howard lawrence, Guy lawrence, Khalid   \n",
       "4  Ed sheeran, Justin bieber, Shellback, Max mart...   \n",
       "\n",
       "                                              Lyrics         Features  Year  \n",
       "0  Old Town Road Remix \\nOh, oh-oh\\nOh\\nYeah, I'm...  Billy Ray Cyrus  2019  \n",
       "1  Senorita \\nI love it when you call me senorita...              NaN  2019  \n",
       "2  bad guy \\nWhite shirt now red, my bloody nose\\...              NaN  2019  \n",
       "3  Talk \\nCan we just talk? Can we just talk?\\nTa...              NaN  2019  \n",
       "4  I Don't Care \\nI'm at a party I don't wanna be...              NaN  2019  "
      ]
     },
     "execution_count": 3,
     "metadata": {},
     "output_type": "execute_result"
    }
   ],
   "source": [
    "df = pd.read_csv(billboard_filepath)\n",
    "\n",
    "df.drop(columns=['Unnamed: 0'], inplace=True)\n",
    "df['Year'] = df.Week.apply(lambda x: int(x[:4]))\n",
    "print('Total number of songs: %d [%d-%d]' % (len(df), df.Year.min(), df.Year.max()))\n",
    "\n",
    "df.head()"
   ]
  },
  {
   "cell_type": "code",
   "execution_count": 7,
   "metadata": {
    "collapsed": false,
    "scrolled": true
   },
   "outputs": [],
   "source": [
    "df_attr = pd.read_csv(attribute_filepath, converters={'artists': eval})\n",
    "attribute_columns = [item for item in df_attr.columns if item not in ['artists', 'id', 'name', 'release_date', 'year']]\n",
    "df_attr['artists'] = df_attr['artists'].apply(lambda x: x[0].lower().strip())\n",
    "df_attr['name'] = df_attr['name'].apply(lambda x: x.lower().strip())\n",
    "def get_attributes(attribute_column, song_name, artist_name):\n",
    "    song_name = song_name.lower().strip()\n",
    "    artist_name = artist_name.lower().strip()\n",
    "    df_attr_sub = df_attr[df_attr['name']==song_name]\n",
    "    df_selected_rows = df_attr_sub[df_attr_sub['artists']==artist_name]\n",
    "    if len(df_selected_rows) == 0: return None\n",
    "    return df_selected_rows.iloc[0][attribute_column]\n",
    "\n",
    "for attribute_column in attribute_columns:\n",
    "    df[attribute_column] = df.parallel_apply(lambda x: get_attributes(attribute_column, x['Name'], x['Artists'].split(',')[0]), axis=1)"
   ]
  },
  {
   "cell_type": "markdown",
   "metadata": {},
   "source": [
    "attribute 값이 없는 row는 삭제"
   ]
  },
  {
   "cell_type": "code",
   "execution_count": 8,
   "metadata": {
    "collapsed": false
   },
   "outputs": [
    {
     "name": "stdout",
     "output_type": "stream",
     "text": [
      "Deleted 29484 rows\n"
     ]
    }
   ],
   "source": [
    "original_number_of_rows = len(df)\n",
    "df = df.dropna(subset=attribute_columns)\n",
    "print('Deleted %d rows' % (original_number_of_rows - len(df)))"
   ]
  },
  {
   "cell_type": "code",
   "execution_count": 9,
   "metadata": {
    "collapsed": false
   },
   "outputs": [
    {
     "name": "stdout",
     "output_type": "stream",
     "text": [
      "Created  /home/dmlab/Dropbox/DATA/projects/visualize/output/billboard_with_attributes_67741.csv\n"
     ]
    }
   ],
   "source": [
    "filepath = save_filepath % len(df)\n",
    "df.to_csv(filepath, index=False)\n",
    "print('Created ', filepath)"
   ]
  }
 ],
 "metadata": {
  "kernelspec": {
   "display_name": "Python 3",
   "language": "python",
   "name": "python3"
  },
  "language_info": {
   "codemirror_mode": {
    "name": "ipython",
    "version": 3
   },
   "file_extension": ".py",
   "mimetype": "text/x-python",
   "name": "python",
   "nbconvert_exporter": "python",
   "pygments_lexer": "ipython3",
   "version": "3.6.9"
  },
  "widgets": {
   "state": {
    "0c0bb9b811294c71a5b9b950da4d6d77": {
     "views": [
      {
       "cell_index": 5
      }
     ]
    },
    "2cf303acbcfa401bbe2fbd3abb818296": {
     "views": [
      {
       "cell_index": 5
      }
     ]
    },
    "5f476f9c9d5743d28a40aac39e188ffe": {
     "views": [
      {
       "cell_index": 5
      }
     ]
    },
    "8d7b772fa1fc4766a72761ec5d01189c": {
     "views": [
      {
       "cell_index": 5
      }
     ]
    },
    "934a6ad8f2d54d39883ca5c8b3987e81": {
     "views": [
      {
       "cell_index": 5
      }
     ]
    },
    "9b2d58e734a3454ebb52de647c3104f2": {
     "views": [
      {
       "cell_index": 5
      }
     ]
    },
    "9c6b5b88dc514c01956887346fde2aa8": {
     "views": [
      {
       "cell_index": 5
      }
     ]
    },
    "a18f81b0d52e46f3a36e35c914d7e3dc": {
     "views": [
      {
       "cell_index": 5
      }
     ]
    },
    "a1e3e63a03664eb8859a4acd370b36c7": {
     "views": [
      {
       "cell_index": 5
      }
     ]
    },
    "a57cd2c6194b49f797ddc4bb45a7539f": {
     "views": [
      {
       "cell_index": 5
      }
     ]
    },
    "a929e3aca8a0425ba22da4db2bb38353": {
     "views": [
      {
       "cell_index": 5
      }
     ]
    },
    "b0261d38fd764846ba1f038dfca1ff17": {
     "views": [
      {
       "cell_index": 5
      }
     ]
    },
    "bc207e7ee817425ba44619962fad9be6": {
     "views": [
      {
       "cell_index": 5
      }
     ]
    },
    "c638822f728c41079ec5faed02b5da6c": {
     "views": [
      {
       "cell_index": 5
      }
     ]
    }
   },
   "version": "1.2.0"
  }
 },
 "nbformat": 4,
 "nbformat_minor": 2
}
